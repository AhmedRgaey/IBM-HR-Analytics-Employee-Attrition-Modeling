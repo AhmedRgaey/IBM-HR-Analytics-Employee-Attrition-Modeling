{
 "cells": [
  {
   "cell_type": "markdown",
   "id": "67ea8d6f",
   "metadata": {},
   "source": [
    "# Analysis Task:\n",
    "------------\n",
    "- Import attrition dataset and import libraries such as pandas, matplotlib.pyplot, numpy, and seaborn.\n",
    "- Exploratory data analysis\n",
    "- Find the age distribution of employees in IBM\n",
    "- Explore attrition by age\n",
    "- Explore data for Left employees\n",
    "- Find out the distribution of employees by the education field\n",
    "- Give a bar chart for the number of married and unmarried employees\n",
    "- Build up a logistic regression model to predict which employees are likely to attrite."
   ]
  },
  {
   "cell_type": "markdown",
   "id": "68b4a73a",
   "metadata": {},
   "source": [
    "-------------\n",
    "# 1- Import attrition dataset and import libraries such as pandas, matplotlib.pyplot, numpy and seaborn."
   ]
  },
  {
   "cell_type": "code",
   "execution_count": 1,
   "id": "d9580724",
   "metadata": {},
   "outputs": [],
   "source": [
    "# Import libraries.\n",
    "import numpy as np \n",
    "import pandas as pd\n",
    "import matplotlib.pyplot as plt\n",
    "%matplotlib inline\n",
    "import seaborn as sns"
   ]
  },
  {
   "cell_type": "code",
   "execution_count": 2,
   "id": "24901593",
   "metadata": {},
   "outputs": [],
   "source": [
    "# Import dataset by using pandas.\n",
    "data = pd.read_csv('D://IBM HR Analytics Employee Attrition Modeling/Data/IBM Attrition Data.csv')"
   ]
  },
  {
   "cell_type": "markdown",
   "id": "0bfc8add",
   "metadata": {},
   "source": [
    "------------\n",
    "# 2- Exploratory data analysis"
   ]
  },
  {
   "cell_type": "code",
   "execution_count": 3,
   "id": "ce33360c",
   "metadata": {},
   "outputs": [
    {
     "data": {
      "text/html": [
       "<div>\n",
       "<style scoped>\n",
       "    .dataframe tbody tr th:only-of-type {\n",
       "        vertical-align: middle;\n",
       "    }\n",
       "\n",
       "    .dataframe tbody tr th {\n",
       "        vertical-align: top;\n",
       "    }\n",
       "\n",
       "    .dataframe thead th {\n",
       "        text-align: right;\n",
       "    }\n",
       "</style>\n",
       "<table border=\"1\" class=\"dataframe\">\n",
       "  <thead>\n",
       "    <tr style=\"text-align: right;\">\n",
       "      <th></th>\n",
       "      <th>Age</th>\n",
       "      <th>Attrition</th>\n",
       "      <th>Department</th>\n",
       "      <th>DistanceFromHome</th>\n",
       "      <th>Education</th>\n",
       "      <th>EducationField</th>\n",
       "      <th>EnvironmentSatisfaction</th>\n",
       "      <th>JobSatisfaction</th>\n",
       "      <th>MaritalStatus</th>\n",
       "      <th>MonthlyIncome</th>\n",
       "      <th>NumCompaniesWorked</th>\n",
       "      <th>WorkLifeBalance</th>\n",
       "      <th>YearsAtCompany</th>\n",
       "    </tr>\n",
       "  </thead>\n",
       "  <tbody>\n",
       "    <tr>\n",
       "      <th>0</th>\n",
       "      <td>41</td>\n",
       "      <td>Yes</td>\n",
       "      <td>Sales</td>\n",
       "      <td>1</td>\n",
       "      <td>2</td>\n",
       "      <td>Life Sciences</td>\n",
       "      <td>2</td>\n",
       "      <td>4</td>\n",
       "      <td>Single</td>\n",
       "      <td>5993</td>\n",
       "      <td>8</td>\n",
       "      <td>1</td>\n",
       "      <td>6</td>\n",
       "    </tr>\n",
       "    <tr>\n",
       "      <th>1</th>\n",
       "      <td>49</td>\n",
       "      <td>No</td>\n",
       "      <td>Research &amp; Development</td>\n",
       "      <td>8</td>\n",
       "      <td>1</td>\n",
       "      <td>Life Sciences</td>\n",
       "      <td>3</td>\n",
       "      <td>2</td>\n",
       "      <td>Married</td>\n",
       "      <td>5130</td>\n",
       "      <td>1</td>\n",
       "      <td>3</td>\n",
       "      <td>10</td>\n",
       "    </tr>\n",
       "    <tr>\n",
       "      <th>2</th>\n",
       "      <td>37</td>\n",
       "      <td>Yes</td>\n",
       "      <td>Research &amp; Development</td>\n",
       "      <td>2</td>\n",
       "      <td>2</td>\n",
       "      <td>Other</td>\n",
       "      <td>4</td>\n",
       "      <td>3</td>\n",
       "      <td>Single</td>\n",
       "      <td>2090</td>\n",
       "      <td>6</td>\n",
       "      <td>3</td>\n",
       "      <td>0</td>\n",
       "    </tr>\n",
       "    <tr>\n",
       "      <th>3</th>\n",
       "      <td>33</td>\n",
       "      <td>No</td>\n",
       "      <td>Research &amp; Development</td>\n",
       "      <td>3</td>\n",
       "      <td>4</td>\n",
       "      <td>Life Sciences</td>\n",
       "      <td>4</td>\n",
       "      <td>3</td>\n",
       "      <td>Married</td>\n",
       "      <td>2909</td>\n",
       "      <td>1</td>\n",
       "      <td>3</td>\n",
       "      <td>8</td>\n",
       "    </tr>\n",
       "    <tr>\n",
       "      <th>4</th>\n",
       "      <td>27</td>\n",
       "      <td>No</td>\n",
       "      <td>Research &amp; Development</td>\n",
       "      <td>2</td>\n",
       "      <td>1</td>\n",
       "      <td>Medical</td>\n",
       "      <td>1</td>\n",
       "      <td>2</td>\n",
       "      <td>Married</td>\n",
       "      <td>3468</td>\n",
       "      <td>9</td>\n",
       "      <td>3</td>\n",
       "      <td>2</td>\n",
       "    </tr>\n",
       "  </tbody>\n",
       "</table>\n",
       "</div>"
      ],
      "text/plain": [
       "   Age Attrition              Department  DistanceFromHome  Education  \\\n",
       "0   41       Yes                   Sales                 1          2   \n",
       "1   49        No  Research & Development                 8          1   \n",
       "2   37       Yes  Research & Development                 2          2   \n",
       "3   33        No  Research & Development                 3          4   \n",
       "4   27        No  Research & Development                 2          1   \n",
       "\n",
       "  EducationField  EnvironmentSatisfaction  JobSatisfaction MaritalStatus  \\\n",
       "0  Life Sciences                        2                4        Single   \n",
       "1  Life Sciences                        3                2       Married   \n",
       "2          Other                        4                3        Single   \n",
       "3  Life Sciences                        4                3       Married   \n",
       "4        Medical                        1                2       Married   \n",
       "\n",
       "   MonthlyIncome  NumCompaniesWorked  WorkLifeBalance  YearsAtCompany  \n",
       "0           5993                   8                1               6  \n",
       "1           5130                   1                3              10  \n",
       "2           2090                   6                3               0  \n",
       "3           2909                   1                3               8  \n",
       "4           3468                   9                3               2  "
      ]
     },
     "execution_count": 3,
     "metadata": {},
     "output_type": "execute_result"
    }
   ],
   "source": [
    "# Show the first five rows from the dataset.\n",
    "data.head()"
   ]
  },
  {
   "cell_type": "code",
   "execution_count": 4,
   "id": "84645595",
   "metadata": {},
   "outputs": [
    {
     "data": {
      "text/html": [
       "<div>\n",
       "<style scoped>\n",
       "    .dataframe tbody tr th:only-of-type {\n",
       "        vertical-align: middle;\n",
       "    }\n",
       "\n",
       "    .dataframe tbody tr th {\n",
       "        vertical-align: top;\n",
       "    }\n",
       "\n",
       "    .dataframe thead th {\n",
       "        text-align: right;\n",
       "    }\n",
       "</style>\n",
       "<table border=\"1\" class=\"dataframe\">\n",
       "  <thead>\n",
       "    <tr style=\"text-align: right;\">\n",
       "      <th></th>\n",
       "      <th>Age</th>\n",
       "      <th>Attrition</th>\n",
       "      <th>Department</th>\n",
       "      <th>DistanceFromHome</th>\n",
       "      <th>Education</th>\n",
       "      <th>EducationField</th>\n",
       "      <th>EnvironmentSatisfaction</th>\n",
       "      <th>JobSatisfaction</th>\n",
       "      <th>MaritalStatus</th>\n",
       "      <th>MonthlyIncome</th>\n",
       "      <th>NumCompaniesWorked</th>\n",
       "      <th>WorkLifeBalance</th>\n",
       "      <th>YearsAtCompany</th>\n",
       "    </tr>\n",
       "  </thead>\n",
       "  <tbody>\n",
       "    <tr>\n",
       "      <th>1465</th>\n",
       "      <td>36</td>\n",
       "      <td>No</td>\n",
       "      <td>Research &amp; Development</td>\n",
       "      <td>23</td>\n",
       "      <td>2</td>\n",
       "      <td>Medical</td>\n",
       "      <td>3</td>\n",
       "      <td>4</td>\n",
       "      <td>Married</td>\n",
       "      <td>2571</td>\n",
       "      <td>4</td>\n",
       "      <td>3</td>\n",
       "      <td>5</td>\n",
       "    </tr>\n",
       "    <tr>\n",
       "      <th>1466</th>\n",
       "      <td>39</td>\n",
       "      <td>No</td>\n",
       "      <td>Research &amp; Development</td>\n",
       "      <td>6</td>\n",
       "      <td>1</td>\n",
       "      <td>Medical</td>\n",
       "      <td>4</td>\n",
       "      <td>1</td>\n",
       "      <td>Married</td>\n",
       "      <td>9991</td>\n",
       "      <td>4</td>\n",
       "      <td>3</td>\n",
       "      <td>7</td>\n",
       "    </tr>\n",
       "    <tr>\n",
       "      <th>1467</th>\n",
       "      <td>27</td>\n",
       "      <td>No</td>\n",
       "      <td>Research &amp; Development</td>\n",
       "      <td>4</td>\n",
       "      <td>3</td>\n",
       "      <td>Life Sciences</td>\n",
       "      <td>2</td>\n",
       "      <td>2</td>\n",
       "      <td>Married</td>\n",
       "      <td>6142</td>\n",
       "      <td>1</td>\n",
       "      <td>3</td>\n",
       "      <td>6</td>\n",
       "    </tr>\n",
       "    <tr>\n",
       "      <th>1468</th>\n",
       "      <td>49</td>\n",
       "      <td>No</td>\n",
       "      <td>Sales</td>\n",
       "      <td>2</td>\n",
       "      <td>3</td>\n",
       "      <td>Medical</td>\n",
       "      <td>4</td>\n",
       "      <td>2</td>\n",
       "      <td>Married</td>\n",
       "      <td>5390</td>\n",
       "      <td>2</td>\n",
       "      <td>2</td>\n",
       "      <td>9</td>\n",
       "    </tr>\n",
       "    <tr>\n",
       "      <th>1469</th>\n",
       "      <td>34</td>\n",
       "      <td>No</td>\n",
       "      <td>Research &amp; Development</td>\n",
       "      <td>8</td>\n",
       "      <td>3</td>\n",
       "      <td>Medical</td>\n",
       "      <td>2</td>\n",
       "      <td>3</td>\n",
       "      <td>Married</td>\n",
       "      <td>4404</td>\n",
       "      <td>2</td>\n",
       "      <td>4</td>\n",
       "      <td>4</td>\n",
       "    </tr>\n",
       "  </tbody>\n",
       "</table>\n",
       "</div>"
      ],
      "text/plain": [
       "      Age Attrition              Department  DistanceFromHome  Education  \\\n",
       "1465   36        No  Research & Development                23          2   \n",
       "1466   39        No  Research & Development                 6          1   \n",
       "1467   27        No  Research & Development                 4          3   \n",
       "1468   49        No                   Sales                 2          3   \n",
       "1469   34        No  Research & Development                 8          3   \n",
       "\n",
       "     EducationField  EnvironmentSatisfaction  JobSatisfaction MaritalStatus  \\\n",
       "1465        Medical                        3                4       Married   \n",
       "1466        Medical                        4                1       Married   \n",
       "1467  Life Sciences                        2                2       Married   \n",
       "1468        Medical                        4                2       Married   \n",
       "1469        Medical                        2                3       Married   \n",
       "\n",
       "      MonthlyIncome  NumCompaniesWorked  WorkLifeBalance  YearsAtCompany  \n",
       "1465           2571                   4                3               5  \n",
       "1466           9991                   4                3               7  \n",
       "1467           6142                   1                3               6  \n",
       "1468           5390                   2                2               9  \n",
       "1469           4404                   2                4               4  "
      ]
     },
     "execution_count": 4,
     "metadata": {},
     "output_type": "execute_result"
    }
   ],
   "source": [
    "# Show the last five rows from the dataset.\n",
    "data.tail()"
   ]
  },
  {
   "cell_type": "code",
   "execution_count": 5,
   "id": "fcb13508",
   "metadata": {},
   "outputs": [
    {
     "name": "stdout",
     "output_type": "stream",
     "text": [
      "(1470, 13)\n",
      "count of rows 1470\n",
      "count of columns 13\n"
     ]
    }
   ],
   "source": [
    "# Check the shape of the dataset(count of coulmns and rows).\n",
    "print(data.shape)\n",
    "print('count of rows',data.shape[0])\n",
    "print('count of columns',data.shape[1])"
   ]
  },
  {
   "cell_type": "markdown",
   "id": "2809152d",
   "metadata": {},
   "source": [
    "- There are 1470 rows and 13 columns."
   ]
  },
  {
   "cell_type": "code",
   "execution_count": 6,
   "id": "b809110b",
   "metadata": {},
   "outputs": [
    {
     "name": "stdout",
     "output_type": "stream",
     "text": [
      "<class 'pandas.core.frame.DataFrame'>\n",
      "RangeIndex: 1470 entries, 0 to 1469\n",
      "Data columns (total 13 columns):\n",
      " #   Column                   Non-Null Count  Dtype \n",
      "---  ------                   --------------  ----- \n",
      " 0   Age                      1470 non-null   int64 \n",
      " 1   Attrition                1470 non-null   object\n",
      " 2   Department               1470 non-null   object\n",
      " 3   DistanceFromHome         1470 non-null   int64 \n",
      " 4   Education                1470 non-null   int64 \n",
      " 5   EducationField           1470 non-null   object\n",
      " 6   EnvironmentSatisfaction  1470 non-null   int64 \n",
      " 7   JobSatisfaction          1470 non-null   int64 \n",
      " 8   MaritalStatus            1470 non-null   object\n",
      " 9   MonthlyIncome            1470 non-null   int64 \n",
      " 10  NumCompaniesWorked       1470 non-null   int64 \n",
      " 11  WorkLifeBalance          1470 non-null   int64 \n",
      " 12  YearsAtCompany           1470 non-null   int64 \n",
      "dtypes: int64(9), object(4)\n",
      "memory usage: 149.4+ KB\n"
     ]
    }
   ],
   "source": [
    "# Get more informations about our dataset.\n",
    "data.info()"
   ]
  },
  {
   "cell_type": "markdown",
   "id": "04f6c753",
   "metadata": {},
   "source": [
    "- There are four object columns and nine integer columns."
   ]
  },
  {
   "cell_type": "code",
   "execution_count": 7,
   "id": "b159a9a8",
   "metadata": {},
   "outputs": [
    {
     "data": {
      "text/plain": [
       "Age                        False\n",
       "Attrition                  False\n",
       "Department                 False\n",
       "DistanceFromHome           False\n",
       "Education                  False\n",
       "EducationField             False\n",
       "EnvironmentSatisfaction    False\n",
       "JobSatisfaction            False\n",
       "MaritalStatus              False\n",
       "MonthlyIncome              False\n",
       "NumCompaniesWorked         False\n",
       "WorkLifeBalance            False\n",
       "YearsAtCompany             False\n",
       "dtype: bool"
      ]
     },
     "execution_count": 7,
     "metadata": {},
     "output_type": "execute_result"
    }
   ],
   "source": [
    "# Check the null valuse.\n",
    "data.isna().any()"
   ]
  },
  {
   "cell_type": "markdown",
   "id": "db609246",
   "metadata": {},
   "source": [
    "- No null values in the dataset."
   ]
  },
  {
   "cell_type": "code",
   "execution_count": 8,
   "id": "61d12f96",
   "metadata": {},
   "outputs": [
    {
     "data": {
      "text/plain": [
       "0"
      ]
     },
     "execution_count": 8,
     "metadata": {},
     "output_type": "execute_result"
    }
   ],
   "source": [
    "# Check the duplicates in the data.\n",
    "data.duplicated().sum()"
   ]
  },
  {
   "cell_type": "markdown",
   "id": "93cc2a89",
   "metadata": {},
   "source": [
    "- No duplicates in the dataset."
   ]
  },
  {
   "cell_type": "code",
   "execution_count": 9,
   "id": "4bf449f9",
   "metadata": {},
   "outputs": [
    {
     "data": {
      "text/html": [
       "<style type=\"text/css\">\n",
       "#T_b2f64_row0_col0, #T_b2f64_row0_col2, #T_b2f64_row0_col7, #T_b2f64_row1_col0, #T_b2f64_row1_col1, #T_b2f64_row1_col2, #T_b2f64_row1_col3, #T_b2f64_row1_col4, #T_b2f64_row1_col5, #T_b2f64_row1_col6, #T_b2f64_row1_col7, #T_b2f64_row2_col0, #T_b2f64_row2_col1, #T_b2f64_row2_col2, #T_b2f64_row2_col3, #T_b2f64_row2_col4, #T_b2f64_row2_col5, #T_b2f64_row2_col6, #T_b2f64_row2_col7, #T_b2f64_row3_col0, #T_b2f64_row3_col1, #T_b2f64_row3_col2, #T_b2f64_row3_col3, #T_b2f64_row3_col4, #T_b2f64_row3_col5, #T_b2f64_row3_col6, #T_b2f64_row3_col7, #T_b2f64_row4_col0, #T_b2f64_row4_col1, #T_b2f64_row4_col2, #T_b2f64_row4_col3, #T_b2f64_row4_col4, #T_b2f64_row4_col5, #T_b2f64_row4_col6, #T_b2f64_row4_col7, #T_b2f64_row5_col0, #T_b2f64_row6_col0, #T_b2f64_row6_col1, #T_b2f64_row6_col2, #T_b2f64_row6_col3, #T_b2f64_row6_col4, #T_b2f64_row6_col5, #T_b2f64_row6_col6, #T_b2f64_row6_col7, #T_b2f64_row7_col0, #T_b2f64_row7_col1, #T_b2f64_row7_col2, #T_b2f64_row7_col3, #T_b2f64_row7_col4, #T_b2f64_row7_col5, #T_b2f64_row7_col6, #T_b2f64_row7_col7, #T_b2f64_row8_col0, #T_b2f64_row8_col1, #T_b2f64_row8_col2, #T_b2f64_row8_col3, #T_b2f64_row8_col4, #T_b2f64_row8_col5, #T_b2f64_row8_col6, #T_b2f64_row8_col7 {\n",
       "  background-color: #f7fbff;\n",
       "  color: #000000;\n",
       "}\n",
       "#T_b2f64_row0_col1, #T_b2f64_row0_col5, #T_b2f64_row0_col6 {\n",
       "  background-color: #f6faff;\n",
       "  color: #000000;\n",
       "}\n",
       "#T_b2f64_row0_col3 {\n",
       "  background-color: #f4f9fe;\n",
       "  color: #000000;\n",
       "}\n",
       "#T_b2f64_row0_col4 {\n",
       "  background-color: #f5fafe;\n",
       "  color: #000000;\n",
       "}\n",
       "#T_b2f64_row5_col1, #T_b2f64_row5_col2, #T_b2f64_row5_col3, #T_b2f64_row5_col4, #T_b2f64_row5_col5, #T_b2f64_row5_col6, #T_b2f64_row5_col7 {\n",
       "  background-color: #08306b;\n",
       "  color: #f1f1f1;\n",
       "}\n",
       "</style>\n",
       "<table id=\"T_b2f64\">\n",
       "  <thead>\n",
       "    <tr>\n",
       "      <th class=\"blank level0\" >&nbsp;</th>\n",
       "      <th id=\"T_b2f64_level0_col0\" class=\"col_heading level0 col0\" >count</th>\n",
       "      <th id=\"T_b2f64_level0_col1\" class=\"col_heading level0 col1\" >mean</th>\n",
       "      <th id=\"T_b2f64_level0_col2\" class=\"col_heading level0 col2\" >std</th>\n",
       "      <th id=\"T_b2f64_level0_col3\" class=\"col_heading level0 col3\" >min</th>\n",
       "      <th id=\"T_b2f64_level0_col4\" class=\"col_heading level0 col4\" >25%</th>\n",
       "      <th id=\"T_b2f64_level0_col5\" class=\"col_heading level0 col5\" >50%</th>\n",
       "      <th id=\"T_b2f64_level0_col6\" class=\"col_heading level0 col6\" >75%</th>\n",
       "      <th id=\"T_b2f64_level0_col7\" class=\"col_heading level0 col7\" >max</th>\n",
       "    </tr>\n",
       "  </thead>\n",
       "  <tbody>\n",
       "    <tr>\n",
       "      <th id=\"T_b2f64_level0_row0\" class=\"row_heading level0 row0\" >Age</th>\n",
       "      <td id=\"T_b2f64_row0_col0\" class=\"data row0 col0\" >1470.000000</td>\n",
       "      <td id=\"T_b2f64_row0_col1\" class=\"data row0 col1\" >36.920000</td>\n",
       "      <td id=\"T_b2f64_row0_col2\" class=\"data row0 col2\" >9.140000</td>\n",
       "      <td id=\"T_b2f64_row0_col3\" class=\"data row0 col3\" >18.000000</td>\n",
       "      <td id=\"T_b2f64_row0_col4\" class=\"data row0 col4\" >30.000000</td>\n",
       "      <td id=\"T_b2f64_row0_col5\" class=\"data row0 col5\" >36.000000</td>\n",
       "      <td id=\"T_b2f64_row0_col6\" class=\"data row0 col6\" >43.000000</td>\n",
       "      <td id=\"T_b2f64_row0_col7\" class=\"data row0 col7\" >60.000000</td>\n",
       "    </tr>\n",
       "    <tr>\n",
       "      <th id=\"T_b2f64_level0_row1\" class=\"row_heading level0 row1\" >DistanceFromHome</th>\n",
       "      <td id=\"T_b2f64_row1_col0\" class=\"data row1 col0\" >1470.000000</td>\n",
       "      <td id=\"T_b2f64_row1_col1\" class=\"data row1 col1\" >9.190000</td>\n",
       "      <td id=\"T_b2f64_row1_col2\" class=\"data row1 col2\" >8.110000</td>\n",
       "      <td id=\"T_b2f64_row1_col3\" class=\"data row1 col3\" >1.000000</td>\n",
       "      <td id=\"T_b2f64_row1_col4\" class=\"data row1 col4\" >2.000000</td>\n",
       "      <td id=\"T_b2f64_row1_col5\" class=\"data row1 col5\" >7.000000</td>\n",
       "      <td id=\"T_b2f64_row1_col6\" class=\"data row1 col6\" >14.000000</td>\n",
       "      <td id=\"T_b2f64_row1_col7\" class=\"data row1 col7\" >29.000000</td>\n",
       "    </tr>\n",
       "    <tr>\n",
       "      <th id=\"T_b2f64_level0_row2\" class=\"row_heading level0 row2\" >Education</th>\n",
       "      <td id=\"T_b2f64_row2_col0\" class=\"data row2 col0\" >1470.000000</td>\n",
       "      <td id=\"T_b2f64_row2_col1\" class=\"data row2 col1\" >2.910000</td>\n",
       "      <td id=\"T_b2f64_row2_col2\" class=\"data row2 col2\" >1.020000</td>\n",
       "      <td id=\"T_b2f64_row2_col3\" class=\"data row2 col3\" >1.000000</td>\n",
       "      <td id=\"T_b2f64_row2_col4\" class=\"data row2 col4\" >2.000000</td>\n",
       "      <td id=\"T_b2f64_row2_col5\" class=\"data row2 col5\" >3.000000</td>\n",
       "      <td id=\"T_b2f64_row2_col6\" class=\"data row2 col6\" >4.000000</td>\n",
       "      <td id=\"T_b2f64_row2_col7\" class=\"data row2 col7\" >5.000000</td>\n",
       "    </tr>\n",
       "    <tr>\n",
       "      <th id=\"T_b2f64_level0_row3\" class=\"row_heading level0 row3\" >EnvironmentSatisfaction</th>\n",
       "      <td id=\"T_b2f64_row3_col0\" class=\"data row3 col0\" >1470.000000</td>\n",
       "      <td id=\"T_b2f64_row3_col1\" class=\"data row3 col1\" >2.720000</td>\n",
       "      <td id=\"T_b2f64_row3_col2\" class=\"data row3 col2\" >1.090000</td>\n",
       "      <td id=\"T_b2f64_row3_col3\" class=\"data row3 col3\" >1.000000</td>\n",
       "      <td id=\"T_b2f64_row3_col4\" class=\"data row3 col4\" >2.000000</td>\n",
       "      <td id=\"T_b2f64_row3_col5\" class=\"data row3 col5\" >3.000000</td>\n",
       "      <td id=\"T_b2f64_row3_col6\" class=\"data row3 col6\" >4.000000</td>\n",
       "      <td id=\"T_b2f64_row3_col7\" class=\"data row3 col7\" >4.000000</td>\n",
       "    </tr>\n",
       "    <tr>\n",
       "      <th id=\"T_b2f64_level0_row4\" class=\"row_heading level0 row4\" >JobSatisfaction</th>\n",
       "      <td id=\"T_b2f64_row4_col0\" class=\"data row4 col0\" >1470.000000</td>\n",
       "      <td id=\"T_b2f64_row4_col1\" class=\"data row4 col1\" >2.730000</td>\n",
       "      <td id=\"T_b2f64_row4_col2\" class=\"data row4 col2\" >1.100000</td>\n",
       "      <td id=\"T_b2f64_row4_col3\" class=\"data row4 col3\" >1.000000</td>\n",
       "      <td id=\"T_b2f64_row4_col4\" class=\"data row4 col4\" >2.000000</td>\n",
       "      <td id=\"T_b2f64_row4_col5\" class=\"data row4 col5\" >3.000000</td>\n",
       "      <td id=\"T_b2f64_row4_col6\" class=\"data row4 col6\" >4.000000</td>\n",
       "      <td id=\"T_b2f64_row4_col7\" class=\"data row4 col7\" >4.000000</td>\n",
       "    </tr>\n",
       "    <tr>\n",
       "      <th id=\"T_b2f64_level0_row5\" class=\"row_heading level0 row5\" >MonthlyIncome</th>\n",
       "      <td id=\"T_b2f64_row5_col0\" class=\"data row5 col0\" >1470.000000</td>\n",
       "      <td id=\"T_b2f64_row5_col1\" class=\"data row5 col1\" >6502.930000</td>\n",
       "      <td id=\"T_b2f64_row5_col2\" class=\"data row5 col2\" >4707.960000</td>\n",
       "      <td id=\"T_b2f64_row5_col3\" class=\"data row5 col3\" >1009.000000</td>\n",
       "      <td id=\"T_b2f64_row5_col4\" class=\"data row5 col4\" >2911.000000</td>\n",
       "      <td id=\"T_b2f64_row5_col5\" class=\"data row5 col5\" >4919.000000</td>\n",
       "      <td id=\"T_b2f64_row5_col6\" class=\"data row5 col6\" >8379.000000</td>\n",
       "      <td id=\"T_b2f64_row5_col7\" class=\"data row5 col7\" >19999.000000</td>\n",
       "    </tr>\n",
       "    <tr>\n",
       "      <th id=\"T_b2f64_level0_row6\" class=\"row_heading level0 row6\" >NumCompaniesWorked</th>\n",
       "      <td id=\"T_b2f64_row6_col0\" class=\"data row6 col0\" >1470.000000</td>\n",
       "      <td id=\"T_b2f64_row6_col1\" class=\"data row6 col1\" >2.690000</td>\n",
       "      <td id=\"T_b2f64_row6_col2\" class=\"data row6 col2\" >2.500000</td>\n",
       "      <td id=\"T_b2f64_row6_col3\" class=\"data row6 col3\" >0.000000</td>\n",
       "      <td id=\"T_b2f64_row6_col4\" class=\"data row6 col4\" >1.000000</td>\n",
       "      <td id=\"T_b2f64_row6_col5\" class=\"data row6 col5\" >2.000000</td>\n",
       "      <td id=\"T_b2f64_row6_col6\" class=\"data row6 col6\" >4.000000</td>\n",
       "      <td id=\"T_b2f64_row6_col7\" class=\"data row6 col7\" >9.000000</td>\n",
       "    </tr>\n",
       "    <tr>\n",
       "      <th id=\"T_b2f64_level0_row7\" class=\"row_heading level0 row7\" >WorkLifeBalance</th>\n",
       "      <td id=\"T_b2f64_row7_col0\" class=\"data row7 col0\" >1470.000000</td>\n",
       "      <td id=\"T_b2f64_row7_col1\" class=\"data row7 col1\" >2.760000</td>\n",
       "      <td id=\"T_b2f64_row7_col2\" class=\"data row7 col2\" >0.710000</td>\n",
       "      <td id=\"T_b2f64_row7_col3\" class=\"data row7 col3\" >1.000000</td>\n",
       "      <td id=\"T_b2f64_row7_col4\" class=\"data row7 col4\" >2.000000</td>\n",
       "      <td id=\"T_b2f64_row7_col5\" class=\"data row7 col5\" >3.000000</td>\n",
       "      <td id=\"T_b2f64_row7_col6\" class=\"data row7 col6\" >3.000000</td>\n",
       "      <td id=\"T_b2f64_row7_col7\" class=\"data row7 col7\" >4.000000</td>\n",
       "    </tr>\n",
       "    <tr>\n",
       "      <th id=\"T_b2f64_level0_row8\" class=\"row_heading level0 row8\" >YearsAtCompany</th>\n",
       "      <td id=\"T_b2f64_row8_col0\" class=\"data row8 col0\" >1470.000000</td>\n",
       "      <td id=\"T_b2f64_row8_col1\" class=\"data row8 col1\" >7.010000</td>\n",
       "      <td id=\"T_b2f64_row8_col2\" class=\"data row8 col2\" >6.130000</td>\n",
       "      <td id=\"T_b2f64_row8_col3\" class=\"data row8 col3\" >0.000000</td>\n",
       "      <td id=\"T_b2f64_row8_col4\" class=\"data row8 col4\" >3.000000</td>\n",
       "      <td id=\"T_b2f64_row8_col5\" class=\"data row8 col5\" >5.000000</td>\n",
       "      <td id=\"T_b2f64_row8_col6\" class=\"data row8 col6\" >9.000000</td>\n",
       "      <td id=\"T_b2f64_row8_col7\" class=\"data row8 col7\" >40.000000</td>\n",
       "    </tr>\n",
       "  </tbody>\n",
       "</table>\n"
      ],
      "text/plain": [
       "<pandas.io.formats.style.Styler at 0x237a0386520>"
      ]
     },
     "execution_count": 9,
     "metadata": {},
     "output_type": "execute_result"
    }
   ],
   "source": [
    "# Get overall statistics of the datase.\n",
    "data.describe().round(2).T.style.background_gradient(cmap = \"Blues\")"
   ]
  },
  {
   "cell_type": "markdown",
   "id": "e85337a9",
   "metadata": {},
   "source": [
    "------------\n",
    "# 3- Find the age distribution of employees in IBM."
   ]
  },
  {
   "cell_type": "code",
   "execution_count": 10,
   "id": "f5f7715f",
   "metadata": {},
   "outputs": [
    {
     "data": {
      "image/png": "[encoded data removed]",
      "text/plain": [
       "<Figure size 1120x480 with 1 Axes>"
      ]
     },
     "metadata": {
      "needs_background": "light"
     },
     "output_type": "display_data"
    }
   ],
   "source": [
    "# Show the age distribution of employees in IBM in a count plot.\n",
    "plt.figure(figsize=(14,6),dpi=80)\n",
    "ax = sns.countplot(x=data['Age'])\n",
    "for p in ax.patches:\n",
    "    height = p.get_height()\n",
    "    ax.text(p.get_x(), height+ 1, '%.0f'%(height))\n",
    "plt.show()"
   ]
  },
  {
   "cell_type": "markdown",
   "id": "63dca839",
   "metadata": {},
   "source": [
    "---------------\n",
    "# 4- Explore attrition by age."
   ]
  },
  {
   "cell_type": "code",
   "execution_count": 11,
   "id": "1af66220",
   "metadata": {},
   "outputs": [
    {
     "data": {
      "image/png": "[encoded data removed]",
      "text/plain": [
       "<Figure size 1120x480 with 1 Axes>"
      ]
     },
     "metadata": {
      "needs_background": "light"
     },
     "output_type": "display_data"
    }
   ],
   "source": [
    "# Show the attrition by age in a count plot.\n",
    "plt.figure(figsize=(14,6),dpi=80)\n",
    "sns.countplot(data=data,x='Age',hue='Attrition', palette='seismic_r')\n",
    "plt.title('Attrition by Age')\n",
    "plt.show()"
   ]
  },
  {
   "cell_type": "markdown",
   "id": "e5077bf5",
   "metadata": {},
   "source": [
    "----------------\n",
    "# 5- Explore data for Left employees."
   ]
  },
  {
   "cell_type": "code",
   "execution_count": 12,
   "id": "268740fe",
   "metadata": {},
   "outputs": [
    {
     "data": {
      "text/plain": [
       "No     1233\n",
       "Yes     237\n",
       "Name: Attrition, dtype: int64"
      ]
     },
     "execution_count": 12,
     "metadata": {},
     "output_type": "execute_result"
    }
   ],
   "source": [
    "# Explore count of left employees.\n",
    "data['Attrition'].value_counts()"
   ]
  },
  {
   "cell_type": "markdown",
   "id": "cb6cbd34",
   "metadata": {},
   "source": [
    "- There are 237 Attrition employees."
   ]
  },
  {
   "cell_type": "code",
   "execution_count": 13,
   "id": "b23bfe62",
   "metadata": {},
   "outputs": [
    {
     "data": {
      "image/png": "[encoded data removed]",
      "text/plain": [
       "<Figure size 576x432 with 1 Axes>"
      ]
     },
     "metadata": {
      "needs_background": "light"
     },
     "output_type": "display_data"
    }
   ],
   "source": [
    "# explore data for Left employees breakdown.\n",
    "plt.figure(figsize=(8,6))\n",
    "sns.countplot(x=data['Attrition'])\n",
    "plt.title(\"Attrition breakdown \")\n",
    "plt.show()"
   ]
  },
  {
   "cell_type": "markdown",
   "id": "7ae8149b",
   "metadata": {},
   "source": [
    "--------------\n",
    "# 6- Find out the distribution of employees by the education field."
   ]
  },
  {
   "cell_type": "code",
   "execution_count": 14,
   "id": "0dd52790",
   "metadata": {},
   "outputs": [
    {
     "data": {
      "text/plain": [
       "Life Sciences       606\n",
       "Medical             464\n",
       "Marketing           159\n",
       "Technical Degree    132\n",
       "Other                82\n",
       "Human Resources      27\n",
       "Name: EducationField, dtype: int64"
      ]
     },
     "execution_count": 14,
     "metadata": {},
     "output_type": "execute_result"
    }
   ],
   "source": [
    "# Find the value counts of the Education Field.\n",
    "data['EducationField'].value_counts()"
   ]
  },
  {
   "cell_type": "code",
   "execution_count": 15,
   "id": "642c0cb1",
   "metadata": {},
   "outputs": [
    {
     "data": {
      "image/png": "[encoded data removed]",
      "text/plain": [
       "<Figure size 720x576 with 1 Axes>"
      ]
     },
     "metadata": {
      "needs_background": "light"
     },
     "output_type": "display_data"
    }
   ],
   "source": [
    "# explore data for Education Field distribution in a barh chart.\n",
    "plt.figure(figsize=(10,8))\n",
    "data.EducationField.value_counts().plot(kind='barh',color='g',alpha=.65)\n",
    "plt.title(\"Education Field Distribution\")\n",
    "plt.show()"
   ]
  },
  {
   "cell_type": "markdown",
   "id": "0123ff6c",
   "metadata": {},
   "source": [
    "-------------\n",
    "# 7- Give a bar chart for the number of married and unmarried employees."
   ]
  },
  {
   "cell_type": "code",
   "execution_count": 16,
   "id": "b826b71d",
   "metadata": {},
   "outputs": [
    {
     "data": {
      "text/plain": [
       "Married     673\n",
       "Single      470\n",
       "Divorced    327\n",
       "Name: MaritalStatus, dtype: int64"
      ]
     },
     "execution_count": 16,
     "metadata": {},
     "output_type": "execute_result"
    }
   ],
   "source": [
    "data['MaritalStatus'].value_counts()"
   ]
  },
  {
   "cell_type": "code",
   "execution_count": 17,
   "id": "280aa000",
   "metadata": {},
   "outputs": [
    {
     "data": {
      "image/png": "[encoded data removed]",
      "text/plain": [
       "<Figure size 720x576 with 1 Axes>"
      ]
     },
     "metadata": {
      "needs_background": "light"
     },
     "output_type": "display_data"
    }
   ],
   "source": [
    "# Show the number of married and unmarried employees in a bar chart.\n",
    "plt.figure(figsize=(10,8))\n",
    "data.MaritalStatus.value_counts().plot(kind='bar')\n",
    "plt.show()"
   ]
  },
  {
   "cell_type": "markdown",
   "id": "ef7ece35",
   "metadata": {},
   "source": [
    "------------\n",
    "# 8- Build up a logistic regression model to predict which employees are likely to attrite."
   ]
  },
  {
   "cell_type": "markdown",
   "id": "aff490ac",
   "metadata": {},
   "source": [
    "###### Convert the objective data to numerical data."
   ]
  },
  {
   "cell_type": "code",
   "execution_count": 18,
   "id": "465eea04",
   "metadata": {},
   "outputs": [
    {
     "data": {
      "text/plain": [
       "No     1233\n",
       "Yes     237\n",
       "Name: Attrition, dtype: int64"
      ]
     },
     "execution_count": 18,
     "metadata": {},
     "output_type": "execute_result"
    }
   ],
   "source": [
    "# Find the values of the Attrition values.\n",
    "data['Attrition'].value_counts() "
   ]
  },
  {
   "cell_type": "code",
   "execution_count": 19,
   "id": "beb8ccc0",
   "metadata": {},
   "outputs": [],
   "source": [
    "# Convert Attrition column to numerical.\n",
    "data['Attrition'] = pd.get_dummies(data['Attrition'],drop_first=True)"
   ]
  },
  {
   "cell_type": "code",
   "execution_count": 20,
   "id": "6826091e",
   "metadata": {},
   "outputs": [
    {
     "data": {
      "text/plain": [
       "Research & Development    961\n",
       "Sales                     446\n",
       "Human Resources            63\n",
       "Name: Department, dtype: int64"
      ]
     },
     "execution_count": 20,
     "metadata": {},
     "output_type": "execute_result"
    }
   ],
   "source": [
    "# Find the values of the Department values.\n",
    "data['Department'].value_counts() "
   ]
  },
  {
   "cell_type": "code",
   "execution_count": 21,
   "id": "0f3eecdd",
   "metadata": {},
   "outputs": [],
   "source": [
    "# Convert Department column to numerical.\n",
    "data['Department'] = data['Department'].map({'Human Resources':0,'Sales':1,'Research & Development':2})"
   ]
  },
  {
   "cell_type": "code",
   "execution_count": 22,
   "id": "dbc5f4d9",
   "metadata": {},
   "outputs": [
    {
     "data": {
      "text/plain": [
       "Life Sciences       606\n",
       "Medical             464\n",
       "Marketing           159\n",
       "Technical Degree    132\n",
       "Other                82\n",
       "Human Resources      27\n",
       "Name: EducationField, dtype: int64"
      ]
     },
     "execution_count": 22,
     "metadata": {},
     "output_type": "execute_result"
    }
   ],
   "source": [
    "# Find the values of the EducationField values.\n",
    "data['EducationField'].value_counts() "
   ]
  },
  {
   "cell_type": "code",
   "execution_count": 23,
   "id": "de1e0417",
   "metadata": {},
   "outputs": [],
   "source": [
    "# Convert Attrition column to numerical.\n",
    "data['EducationField'] = data['EducationField'].map({'Human Resources':0,'Other':1,'Technical Degree':2,'Marketing':3,'Medical':4,'Life Sciences':5})"
   ]
  },
  {
   "cell_type": "code",
   "execution_count": 24,
   "id": "a9b2eadb",
   "metadata": {},
   "outputs": [
    {
     "data": {
      "text/plain": [
       "Married     673\n",
       "Single      470\n",
       "Divorced    327\n",
       "Name: MaritalStatus, dtype: int64"
      ]
     },
     "execution_count": 24,
     "metadata": {},
     "output_type": "execute_result"
    }
   ],
   "source": [
    "# Find the values of the MaritalStatus values.\n",
    "data['MaritalStatus'].value_counts() "
   ]
  },
  {
   "cell_type": "code",
   "execution_count": 25,
   "id": "c1c8a2cf",
   "metadata": {},
   "outputs": [],
   "source": [
    "# Convert MaritalStatus column to numerical.\n",
    "data['MaritalStatus'] = data['MaritalStatus'].map({'Divorced':2,'Single':0,'Married':1})"
   ]
  },
  {
   "cell_type": "markdown",
   "id": "c3def677",
   "metadata": {},
   "source": [
    "###### Take another look of the dataset."
   ]
  },
  {
   "cell_type": "code",
   "execution_count": 26,
   "id": "049cd671",
   "metadata": {},
   "outputs": [
    {
     "data": {
      "text/html": [
       "<div>\n",
       "<style scoped>\n",
       "    .dataframe tbody tr th:only-of-type {\n",
       "        vertical-align: middle;\n",
       "    }\n",
       "\n",
       "    .dataframe tbody tr th {\n",
       "        vertical-align: top;\n",
       "    }\n",
       "\n",
       "    .dataframe thead th {\n",
       "        text-align: right;\n",
       "    }\n",
       "</style>\n",
       "<table border=\"1\" class=\"dataframe\">\n",
       "  <thead>\n",
       "    <tr style=\"text-align: right;\">\n",
       "      <th></th>\n",
       "      <th>Age</th>\n",
       "      <th>Attrition</th>\n",
       "      <th>Department</th>\n",
       "      <th>DistanceFromHome</th>\n",
       "      <th>Education</th>\n",
       "      <th>EducationField</th>\n",
       "      <th>EnvironmentSatisfaction</th>\n",
       "      <th>JobSatisfaction</th>\n",
       "      <th>MaritalStatus</th>\n",
       "      <th>MonthlyIncome</th>\n",
       "      <th>NumCompaniesWorked</th>\n",
       "      <th>WorkLifeBalance</th>\n",
       "      <th>YearsAtCompany</th>\n",
       "    </tr>\n",
       "  </thead>\n",
       "  <tbody>\n",
       "    <tr>\n",
       "      <th>1201</th>\n",
       "      <td>23</td>\n",
       "      <td>1</td>\n",
       "      <td>2</td>\n",
       "      <td>8</td>\n",
       "      <td>1</td>\n",
       "      <td>4</td>\n",
       "      <td>4</td>\n",
       "      <td>3</td>\n",
       "      <td>0</td>\n",
       "      <td>3989</td>\n",
       "      <td>1</td>\n",
       "      <td>3</td>\n",
       "      <td>5</td>\n",
       "    </tr>\n",
       "    <tr>\n",
       "      <th>186</th>\n",
       "      <td>40</td>\n",
       "      <td>0</td>\n",
       "      <td>2</td>\n",
       "      <td>4</td>\n",
       "      <td>1</td>\n",
       "      <td>4</td>\n",
       "      <td>4</td>\n",
       "      <td>3</td>\n",
       "      <td>1</td>\n",
       "      <td>19033</td>\n",
       "      <td>1</td>\n",
       "      <td>3</td>\n",
       "      <td>20</td>\n",
       "    </tr>\n",
       "    <tr>\n",
       "      <th>1329</th>\n",
       "      <td>29</td>\n",
       "      <td>0</td>\n",
       "      <td>0</td>\n",
       "      <td>6</td>\n",
       "      <td>1</td>\n",
       "      <td>4</td>\n",
       "      <td>4</td>\n",
       "      <td>2</td>\n",
       "      <td>1</td>\n",
       "      <td>2804</td>\n",
       "      <td>1</td>\n",
       "      <td>3</td>\n",
       "      <td>1</td>\n",
       "    </tr>\n",
       "    <tr>\n",
       "      <th>137</th>\n",
       "      <td>39</td>\n",
       "      <td>0</td>\n",
       "      <td>1</td>\n",
       "      <td>4</td>\n",
       "      <td>4</td>\n",
       "      <td>5</td>\n",
       "      <td>4</td>\n",
       "      <td>3</td>\n",
       "      <td>1</td>\n",
       "      <td>5902</td>\n",
       "      <td>4</td>\n",
       "      <td>4</td>\n",
       "      <td>15</td>\n",
       "    </tr>\n",
       "    <tr>\n",
       "      <th>578</th>\n",
       "      <td>38</td>\n",
       "      <td>0</td>\n",
       "      <td>2</td>\n",
       "      <td>2</td>\n",
       "      <td>4</td>\n",
       "      <td>5</td>\n",
       "      <td>1</td>\n",
       "      <td>1</td>\n",
       "      <td>0</td>\n",
       "      <td>5980</td>\n",
       "      <td>6</td>\n",
       "      <td>3</td>\n",
       "      <td>15</td>\n",
       "    </tr>\n",
       "  </tbody>\n",
       "</table>\n",
       "</div>"
      ],
      "text/plain": [
       "      Age  Attrition  Department  DistanceFromHome  Education  EducationField  \\\n",
       "1201   23          1           2                 8          1               4   \n",
       "186    40          0           2                 4          1               4   \n",
       "1329   29          0           0                 6          1               4   \n",
       "137    39          0           1                 4          4               5   \n",
       "578    38          0           2                 2          4               5   \n",
       "\n",
       "      EnvironmentSatisfaction  JobSatisfaction  MaritalStatus  MonthlyIncome  \\\n",
       "1201                        4                3              0           3989   \n",
       "186                         4                3              1          19033   \n",
       "1329                        4                2              1           2804   \n",
       "137                         4                3              1           5902   \n",
       "578                         1                1              0           5980   \n",
       "\n",
       "      NumCompaniesWorked  WorkLifeBalance  YearsAtCompany  \n",
       "1201                   1                3               5  \n",
       "186                    1                3              20  \n",
       "1329                   1                3               1  \n",
       "137                    4                4              15  \n",
       "578                    6                3              15  "
      ]
     },
     "execution_count": 26,
     "metadata": {},
     "output_type": "execute_result"
    }
   ],
   "source": [
    "data.sample(5)"
   ]
  },
  {
   "cell_type": "code",
   "execution_count": 27,
   "id": "3113bd70",
   "metadata": {},
   "outputs": [
    {
     "data": {
      "image/png": "[encoded data removed]",
      "text/plain": [
       "<Figure size 1008x576 with 2 Axes>"
      ]
     },
     "metadata": {
      "needs_background": "light"
     },
     "output_type": "display_data"
    }
   ],
   "source": [
    "# Show the corrolation between all columns in a heatmap.\n",
    "plt.figure(figsize=(14,8))\n",
    "sns.heatmap(data.corr(),annot=True)\n",
    "plt.show()"
   ]
  },
  {
   "cell_type": "markdown",
   "id": "783b033c",
   "metadata": {},
   "source": [
    "###### Split the data into features X and target y."
   ]
  },
  {
   "cell_type": "code",
   "execution_count": 28,
   "id": "a1c0c4d9",
   "metadata": {},
   "outputs": [],
   "source": [
    "# X will be the features without the vector(Attrition).\n",
    "X = data.drop('Attrition',axis=1)"
   ]
  },
  {
   "cell_type": "code",
   "execution_count": 29,
   "id": "9260394f",
   "metadata": {},
   "outputs": [],
   "source": [
    "# y will be the vector Attrition.\n",
    "y = data['Attrition']"
   ]
  },
  {
   "cell_type": "markdown",
   "id": "0bfd58e7",
   "metadata": {},
   "source": [
    "###### Split X ,y into training dataset and testing dataset."
   ]
  },
  {
   "cell_type": "code",
   "execution_count": 30,
   "id": "cda9876e",
   "metadata": {},
   "outputs": [],
   "source": [
    "# Import trian_test_split algorizm from sklearn library.\n",
    "from sklearn.model_selection import train_test_split"
   ]
  },
  {
   "cell_type": "code",
   "execution_count": 31,
   "id": "69627b51",
   "metadata": {},
   "outputs": [],
   "source": [
    "# Split X, y into X_trian,X_test,y_train,y_test.\n",
    "X_train,X_test,y_train,y_test = train_test_split(X,y,test_size=0.3,random_state=42)"
   ]
  },
  {
   "cell_type": "code",
   "execution_count": 32,
   "id": "7563dba8",
   "metadata": {},
   "outputs": [],
   "source": [
    "# Import standard scaler.\n",
    "from sklearn.preprocessing import StandardScaler"
   ]
  },
  {
   "cell_type": "code",
   "execution_count": 33,
   "id": "d882a49b",
   "metadata": {},
   "outputs": [],
   "source": [
    "scal = StandardScaler()"
   ]
  },
  {
   "cell_type": "code",
   "execution_count": 34,
   "id": "32c82618",
   "metadata": {},
   "outputs": [],
   "source": [
    "X_train = scal.fit_transform(X_train )\n",
    "X_test = scal.transform(X_test)"
   ]
  },
  {
   "cell_type": "markdown",
   "id": "9a233eac",
   "metadata": {},
   "source": [
    "###### Training the model using LogisticRegression."
   ]
  },
  {
   "cell_type": "code",
   "execution_count": 35,
   "id": "e10bee84",
   "metadata": {},
   "outputs": [],
   "source": [
    "# Import LogisticRegression from sklearn.\n",
    "from sklearn.linear_model import LogisticRegression"
   ]
  },
  {
   "cell_type": "code",
   "execution_count": 36,
   "id": "8df7ffcf",
   "metadata": {},
   "outputs": [
    {
     "data": {
      "text/plain": [
       "0.8445092322643343"
      ]
     },
     "execution_count": 36,
     "metadata": {},
     "output_type": "execute_result"
    }
   ],
   "source": [
    "# Fit the model using logistic Regression.\n",
    "log = LogisticRegression()\n",
    "log.fit(X_train,y_train)\n",
    "log.score(X_train,y_train)"
   ]
  },
  {
   "cell_type": "code",
   "execution_count": 37,
   "id": "b758a99d",
   "metadata": {},
   "outputs": [],
   "source": [
    "# Predict the vector by the model.\n",
    "y_pred = log.predict(X_test)"
   ]
  },
  {
   "cell_type": "code",
   "execution_count": 38,
   "id": "b01ca6cb",
   "metadata": {},
   "outputs": [],
   "source": [
    "# Import accuracy score from sklearn.\n",
    "from sklearn.metrics import accuracy_score"
   ]
  },
  {
   "cell_type": "code",
   "execution_count": 39,
   "id": "a08c4e80",
   "metadata": {},
   "outputs": [
    {
     "data": {
      "text/plain": [
       "0.8616780045351474"
      ]
     },
     "execution_count": 39,
     "metadata": {},
     "output_type": "execute_result"
    }
   ],
   "source": [
    "# Get the accuracy of the log model.\n",
    "accuracy_score(y_test,y_pred)"
   ]
  },
  {
   "cell_type": "code",
   "execution_count": 40,
   "id": "e6031a10",
   "metadata": {},
   "outputs": [],
   "source": [
    "# Import classification report from sklearn.\n",
    "from sklearn.metrics import classification_report"
   ]
  },
  {
   "cell_type": "code",
   "execution_count": 41,
   "id": "ff28cbc4",
   "metadata": {},
   "outputs": [
    {
     "name": "stdout",
     "output_type": "stream",
     "text": [
      "              precision    recall  f1-score   support\n",
      "\n",
      "           0       0.88      0.98      0.92       380\n",
      "           1       0.50      0.13      0.21        61\n",
      "\n",
      "    accuracy                           0.86       441\n",
      "   macro avg       0.69      0.56      0.57       441\n",
      "weighted avg       0.82      0.86      0.83       441\n",
      "\n"
     ]
    }
   ],
   "source": [
    "print(classification_report(y_test,y_pred))"
   ]
  },
  {
   "cell_type": "code",
   "execution_count": 42,
   "id": "3d318b6c",
   "metadata": {},
   "outputs": [
    {
     "name": "stdout",
     "output_type": "stream",
     "text": [
      "X =  [[  21    2    1    1    2    4    2    0 2070    1    4    2]]\n",
      "y =  [0]\n"
     ]
    }
   ],
   "source": [
    "# Find a sample data and put it in a varible named sample_data.\n",
    "sample_data = data.sample(1)\n",
    "X_sample = sample_data.drop('Attrition',axis=1).values\n",
    "y_sample = sample_data['Attrition'].values\n",
    "X_sample_scal = scal.transform(sample_data.drop('Attrition',axis=1))\n",
    "print('X = ',X_sample)\n",
    "print('y = ',y_sample)"
   ]
  },
  {
   "cell_type": "code",
   "execution_count": 43,
   "id": "8a707a9c",
   "metadata": {},
   "outputs": [
    {
     "name": "stdout",
     "output_type": "stream",
     "text": [
      "The employee will not attrition\n"
     ]
    }
   ],
   "source": [
    "# Test the model with a sample data.\n",
    "prediction = log.predict(X_sample_scal)[0]\n",
    "if prediction == 0:\n",
    "    print('The employee will not attrition')\n",
    "else:\n",
    "    print('The employee will attrition')"
   ]
  }
 ],
 "metadata": {
  "kernelspec": {
   "display_name": "Python 3 (ipykernel)",
   "language": "python",
   "name": "python3"
  },
  "language_info": {
   "codemirror_mode": {
    "name": "ipython",
    "version": 3
   },
   "file_extension": ".py",
   "mimetype": "text/x-python",
   "name": "python",
   "nbconvert_exporter": "python",
   "pygments_lexer": "ipython3",
   "version": "3.9.12"
  }
 },
 "nbformat": 4,
 "nbformat_minor": 5
}
